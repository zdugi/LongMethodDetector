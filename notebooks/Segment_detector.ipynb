{
  "nbformat": 4,
  "nbformat_minor": 0,
  "metadata": {
    "accelerator": "GPU",
    "colab": {
      "name": "Segment_detector.ipynb",
      "provenance": []
    },
    "kernelspec": {
      "display_name": "Python 3",
      "name": "python3"
    }
  },
  "cells": [
    {
      "cell_type": "code",
      "metadata": {
        "colab": {
          "base_uri": "https://localhost:8080/"
        },
        "id": "2gkYR2jJimFH",
        "outputId": "f6455d48-7481-41cd-d5a5-7073953035b0"
      },
      "source": [
        "!pip install -U scikit-learn"
      ],
      "execution_count": null,
      "outputs": [
        {
          "output_type": "stream",
          "text": [
            "Collecting scikit-learn\n",
            "\u001b[?25l  Downloading https://files.pythonhosted.org/packages/a8/eb/a48f25c967526b66d5f1fa7a984594f0bf0a5afafa94a8c4dbc317744620/scikit_learn-0.24.2-cp37-cp37m-manylinux2010_x86_64.whl (22.3MB)\n",
            "\u001b[K     |████████████████████████████████| 22.3MB 126kB/s \n",
            "\u001b[?25hRequirement already satisfied, skipping upgrade: scipy>=0.19.1 in /usr/local/lib/python3.7/dist-packages (from scikit-learn) (1.4.1)\n",
            "Requirement already satisfied, skipping upgrade: joblib>=0.11 in /usr/local/lib/python3.7/dist-packages (from scikit-learn) (1.0.1)\n",
            "Requirement already satisfied, skipping upgrade: numpy>=1.13.3 in /usr/local/lib/python3.7/dist-packages (from scikit-learn) (1.19.5)\n",
            "Collecting threadpoolctl>=2.0.0\n",
            "  Downloading https://files.pythonhosted.org/packages/f7/12/ec3f2e203afa394a149911729357aa48affc59c20e2c1c8297a60f33f133/threadpoolctl-2.1.0-py3-none-any.whl\n",
            "Installing collected packages: threadpoolctl, scikit-learn\n",
            "  Found existing installation: scikit-learn 0.22.2.post1\n",
            "    Uninstalling scikit-learn-0.22.2.post1:\n",
            "      Successfully uninstalled scikit-learn-0.22.2.post1\n",
            "Successfully installed scikit-learn-0.24.2 threadpoolctl-2.1.0\n"
          ],
          "name": "stdout"
        }
      ]
    },
    {
      "cell_type": "code",
      "metadata": {
        "colab": {
          "base_uri": "https://localhost:8080/"
        },
        "id": "WGxVwLKsNIgA",
        "outputId": "99488709-55da-4cb2-bb81-dd7d99d45cd0"
      },
      "source": [
        "from google.colab import drive\n",
        "drive.mount('/content/drive')"
      ],
      "execution_count": null,
      "outputs": [
        {
          "output_type": "stream",
          "text": [
            "Mounted at /content/drive\n"
          ],
          "name": "stdout"
        }
      ]
    },
    {
      "cell_type": "code",
      "metadata": {
        "id": "trGLac1Wh-Re"
      },
      "source": [
        "import pandas as pd\n",
        "import numpy as np\n",
        "\n",
        "# cleaned!\n",
        "windows = np.load('/content/drive/MyDrive/dataset/java_windows.npy')\n",
        "labels = np.load('/content/drive/MyDrive/dataset/java_labels.npy')"
      ],
      "execution_count": null,
      "outputs": []
    },
    {
      "cell_type": "code",
      "metadata": {
        "id": "mgcy_rw6ipYT"
      },
      "source": [
        "from sklearn.model_selection import train_test_split\n",
        "\n",
        "X_train, X_test, y_train, y_test = train_test_split(\n",
        "    windows, labels, test_size=0.2, shuffle=False)"
      ],
      "execution_count": null,
      "outputs": []
    },
    {
      "cell_type": "code",
      "metadata": {
        "id": "Ztx8UJwCisGB"
      },
      "source": [
        "del windows, labels"
      ],
      "execution_count": null,
      "outputs": []
    },
    {
      "cell_type": "code",
      "metadata": {
        "id": "8ShNvaNaiuvF"
      },
      "source": [
        "X_test, X_val, y_test, y_val = train_test_split(\n",
        "     X_test, y_test, test_size=0.5, shuffle=False)"
      ],
      "execution_count": null,
      "outputs": []
    },
    {
      "cell_type": "code",
      "metadata": {
        "colab": {
          "base_uri": "https://localhost:8080/"
        },
        "id": "xM9tC9dHqb1Z",
        "outputId": "b93b8378-d500-4b6c-be10-fc1b49685b83"
      },
      "source": [
        "X_test.shape"
      ],
      "execution_count": null,
      "outputs": [
        {
          "output_type": "execute_result",
          "data": {
            "text/plain": [
              "(50695, 100)"
            ]
          },
          "metadata": {
            "tags": []
          },
          "execution_count": 7
        }
      ]
    },
    {
      "cell_type": "code",
      "metadata": {
        "colab": {
          "base_uri": "https://localhost:8080/"
        },
        "id": "qnetHfMJiyR3",
        "outputId": "a3c4783e-bc54-4bcc-f73d-44bd35861802"
      },
      "source": [
        "lw = len(X_test) + len(X_train) + len(X_val)\n",
        "len(X_test)/lw, len(X_train)/lw, len(X_val)/lw"
      ],
      "execution_count": null,
      "outputs": [
        {
          "output_type": "execute_result",
          "data": {
            "text/plain": [
              "(0.10000019725850134, 0.7999996054829973, 0.10000019725850134)"
            ]
          },
          "metadata": {
            "tags": []
          },
          "execution_count": 8
        }
      ]
    },
    {
      "cell_type": "code",
      "metadata": {
        "colab": {
          "base_uri": "https://localhost:8080/"
        },
        "id": "qu4jDNaNHttj",
        "outputId": "5d445492-6e79-4a10-dcfd-a31ef55dfb47"
      },
      "source": [
        "# check sequences order\n",
        "print(''.join([chr(int(c)) for c in X_train[1]]), end='')\n",
        "print(''.join([chr(int(c)) for c in X_train[2]]), end='')"
      ],
      "execution_count": null,
      "outputs": [
        {
          "output_type": "stream",
          "text": [
            "{\n",
            "        System.out.print(str.charAt(i - 1) + \"***\");\n",
            "        if (i == 1) {\n",
            "            i = 0;\n",
            "        }\n",
            "    }\n",
            "    if (str.length() % 5 > 0) {\n",
            "        System.out.print(str.charAt(str.length() - 1));\n"
          ],
          "name": "stdout"
        }
      ]
    },
    {
      "cell_type": "code",
      "metadata": {
        "id": "TC7kUdkSizDK"
      },
      "source": [
        "from keras.models import Sequential, load_model\n",
        "from keras.layers import Embedding, Dropout, Bidirectional, LSTM, Dense, TimeDistributed, Flatten\n",
        "from keras.metrics import AUC, Precision, Recall, SpecificityAtSensitivity, TruePositives, FalsePositives, TrueNegatives, BinaryAccuracy\n",
        "\n",
        "n_vocab = 256 \n",
        "num_lstm_units = 256 \n",
        "bimodel = Sequential() \n",
        "bimodel.add(Embedding(n_vocab,20, input_length =100)) \n",
        "bimodel.add(Dropout(.2)) \n",
        "bimodel.add(Bidirectional(LSTM(num_lstm_units, return_sequences=True))) \n",
        "bimodel.add(Dropout(.2)) \n",
        "bimodel.add(TimeDistributed(Dense(150, activation='relu'))) \n",
        "bimodel.add(Dropout(.2)) \n",
        "bimodel.add(TimeDistributed(Dense(75, activation = 'relu'))) \n",
        "bimodel.add(Dropout(.2)) \n",
        "bimodel.add(TimeDistributed(Dense(1, activation = 'sigmoid'))) \n",
        "bimodel.add(Flatten())\n",
        "\n",
        "# TAKE CARE\n",
        "#bimodel = load_model('/content/drive/MyDrive/dataset/model-cleaned-31-0.1847831755876541.h5')\n",
        "bimodel.compile(loss = 'binary_crossentropy', optimizer='adam', metrics=['acc', BinaryAccuracy(), Recall(), Precision(), AUC(curve='PR')])"
      ],
      "execution_count": null,
      "outputs": []
    },
    {
      "cell_type": "code",
      "metadata": {
        "id": "V5bGc2Yps5DS"
      },
      "source": [
        "# JUST FIND F1\n",
        "bimodel = load_model('/content/drive/MyDrive/dataset/model-31.h5')\n",
        "\n",
        "# bimodel.evaluate(X_test, y_test, verbose=0)\n",
        "y_pred = bimodel.predict(X_test)"
      ],
      "execution_count": null,
      "outputs": []
    },
    {
      "cell_type": "code",
      "metadata": {
        "id": "hDYQU-arjUup"
      },
      "source": [
        "from keras.callbacks import ModelCheckpoint, EarlyStopping\n",
        "\n",
        "checkpoint_filepath = '/content/drive/MyDrive/data/best-model.h5'\n",
        "#checkpoint_filepath = '/content/drive/MyDrive/dataset/model-cleaned-31-0.1847831755876541.h5'\n",
        "model_checkpoint_callback = ModelCheckpoint(\n",
        "    filepath=checkpoint_filepath, verbose=1,save_best_only=True)"
      ],
      "execution_count": null,
      "outputs": []
    },
    {
      "cell_type": "code",
      "metadata": {
        "colab": {
          "base_uri": "https://localhost:8080/"
        },
        "id": "GFOTiAHujWwn",
        "outputId": "12cdb04d-24c4-40df-d08b-b70061dc1552"
      },
      "source": [
        "batch_size = 64\n",
        "num_epochs = 1000\n",
        "\n",
        "bimodel.fit(\n",
        "    X_train, \n",
        "    y_train, \n",
        "    batch_size=batch_size,\n",
        "    epochs=num_epochs,\n",
        "    validation_data=(X_val, y_val), \n",
        "    verbose=1,\n",
        "    shuffle=False,\n",
        "    callbacks=[model_checkpoint_callback, EarlyStopping(monitor='val_loss', patience=20)])"
      ],
      "execution_count": null,
      "outputs": [
        {
          "output_type": "stream",
          "text": [
            "Epoch 1/1000\n",
            "6337/6337 [==============================] - 194s 30ms/step - loss: 0.0110 - acc: 0.2067 - binary_accuracy: 0.9974 - recall_1: 0.5817 - precision_1: 0.6480 - auc_1: 0.6300 - val_loss: 0.0015 - val_acc: 0.2739 - val_binary_accuracy: 0.9995 - val_recall_1: 0.8436 - val_precision_1: 0.9161 - val_auc_1: 0.9365\n",
            "\n",
            "Epoch 00001: val_loss improved from inf to 0.00149, saving model to /content/drive/MyDrive/data/shuff-best-model.h5\n",
            "Epoch 2/1000\n",
            "6337/6337 [==============================] - 188s 30ms/step - loss: 0.0016 - acc: 0.2462 - binary_accuracy: 0.9994 - recall_1: 0.8602 - precision_1: 0.9017 - auc_1: 0.9337 - val_loss: 0.0013 - val_acc: 0.2432 - val_binary_accuracy: 0.9995 - val_recall_1: 0.8864 - val_precision_1: 0.9169 - val_auc_1: 0.9516\n",
            "\n",
            "Epoch 00002: val_loss improved from 0.00149 to 0.00125, saving model to /content/drive/MyDrive/data/shuff-best-model.h5\n",
            "Epoch 3/1000\n",
            "6337/6337 [==============================] - 187s 30ms/step - loss: 0.0013 - acc: 0.2419 - binary_accuracy: 0.9995 - recall_1: 0.8845 - precision_1: 0.9141 - auc_1: 0.9497 - val_loss: 0.0011 - val_acc: 0.2328 - val_binary_accuracy: 0.9996 - val_recall_1: 0.8966 - val_precision_1: 0.9303 - val_auc_1: 0.9630\n",
            "\n",
            "Epoch 00003: val_loss improved from 0.00125 to 0.00114, saving model to /content/drive/MyDrive/data/shuff-best-model.h5\n",
            "Epoch 4/1000\n",
            "6337/6337 [==============================] - 187s 30ms/step - loss: 0.0012 - acc: 0.2380 - binary_accuracy: 0.9996 - recall_1: 0.8924 - precision_1: 0.9214 - auc_1: 0.9587 - val_loss: 0.0011 - val_acc: 0.2368 - val_binary_accuracy: 0.9996 - val_recall_1: 0.9273 - val_precision_1: 0.9098 - val_auc_1: 0.9682\n",
            "\n",
            "Epoch 00004: val_loss improved from 0.00114 to 0.00108, saving model to /content/drive/MyDrive/data/shuff-best-model.h5\n",
            "Epoch 5/1000\n",
            "6337/6337 [==============================] - 187s 29ms/step - loss: 0.0011 - acc: 0.2439 - binary_accuracy: 0.9996 - recall_1: 0.9019 - precision_1: 0.9255 - auc_1: 0.9639 - val_loss: 9.9907e-04 - val_acc: 0.2432 - val_binary_accuracy: 0.9996 - val_recall_1: 0.9152 - val_precision_1: 0.9273 - val_auc_1: 0.9709\n",
            "\n",
            "Epoch 00005: val_loss improved from 0.00108 to 0.00100, saving model to /content/drive/MyDrive/data/shuff-best-model.h5\n",
            "Epoch 6/1000\n",
            "6337/6337 [==============================] - 186s 29ms/step - loss: 0.0011 - acc: 0.2488 - binary_accuracy: 0.9996 - recall_1: 0.9100 - precision_1: 0.9279 - auc_1: 0.9671 - val_loss: 9.7506e-04 - val_acc: 0.2454 - val_binary_accuracy: 0.9997 - val_recall_1: 0.9159 - val_precision_1: 0.9353 - val_auc_1: 0.9720\n",
            "\n",
            "Epoch 00006: val_loss improved from 0.00100 to 0.00098, saving model to /content/drive/MyDrive/data/shuff-best-model.h5\n",
            "Epoch 7/1000\n",
            "6337/6337 [==============================] - 187s 29ms/step - loss: 0.0010 - acc: 0.2493 - binary_accuracy: 0.9996 - recall_1: 0.9152 - precision_1: 0.9297 - auc_1: 0.9703 - val_loss: 9.3941e-04 - val_acc: 0.2420 - val_binary_accuracy: 0.9997 - val_recall_1: 0.9191 - val_precision_1: 0.9371 - val_auc_1: 0.9740\n",
            "\n",
            "Epoch 00007: val_loss improved from 0.00098 to 0.00094, saving model to /content/drive/MyDrive/data/shuff-best-model.h5\n",
            "Epoch 8/1000\n",
            "6337/6337 [==============================] - 186s 29ms/step - loss: 9.7627e-04 - acc: 0.2487 - binary_accuracy: 0.9996 - recall_1: 0.9175 - precision_1: 0.9337 - auc_1: 0.9720 - val_loss: 9.1516e-04 - val_acc: 0.2436 - val_binary_accuracy: 0.9997 - val_recall_1: 0.9161 - val_precision_1: 0.9417 - val_auc_1: 0.9752\n",
            "\n",
            "Epoch 00008: val_loss improved from 0.00094 to 0.00092, saving model to /content/drive/MyDrive/data/shuff-best-model.h5\n",
            "Epoch 9/1000\n",
            "6337/6337 [==============================] - 187s 30ms/step - loss: 9.3158e-04 - acc: 0.2492 - binary_accuracy: 0.9997 - recall_1: 0.9215 - precision_1: 0.9362 - auc_1: 0.9741 - val_loss: 9.0142e-04 - val_acc: 0.2559 - val_binary_accuracy: 0.9997 - val_recall_1: 0.9239 - val_precision_1: 0.9361 - val_auc_1: 0.9763\n",
            "\n",
            "Epoch 00009: val_loss improved from 0.00092 to 0.00090, saving model to /content/drive/MyDrive/data/shuff-best-model.h5\n",
            "Epoch 10/1000\n",
            "6337/6337 [==============================] - 188s 30ms/step - loss: 9.0566e-04 - acc: 0.2516 - binary_accuracy: 0.9997 - recall_1: 0.9243 - precision_1: 0.9362 - auc_1: 0.9760 - val_loss: 8.7889e-04 - val_acc: 0.2442 - val_binary_accuracy: 0.9997 - val_recall_1: 0.9296 - val_precision_1: 0.9359 - val_auc_1: 0.9775\n",
            "\n",
            "Epoch 00010: val_loss improved from 0.00090 to 0.00088, saving model to /content/drive/MyDrive/data/shuff-best-model.h5\n",
            "Epoch 11/1000\n",
            "6337/6337 [==============================] - 188s 30ms/step - loss: 8.6370e-04 - acc: 0.2487 - binary_accuracy: 0.9997 - recall_1: 0.9272 - precision_1: 0.9392 - auc_1: 0.9771 - val_loss: 8.8406e-04 - val_acc: 0.2463 - val_binary_accuracy: 0.9997 - val_recall_1: 0.9316 - val_precision_1: 0.9311 - val_auc_1: 0.9770\n",
            "\n",
            "Epoch 00011: val_loss did not improve from 0.00088\n",
            "Epoch 12/1000\n",
            "6337/6337 [==============================] - 188s 30ms/step - loss: 8.5738e-04 - acc: 0.2500 - binary_accuracy: 0.9997 - recall_1: 0.9294 - precision_1: 0.9395 - auc_1: 0.9770 - val_loss: 8.7939e-04 - val_acc: 0.2437 - val_binary_accuracy: 0.9997 - val_recall_1: 0.9256 - val_precision_1: 0.9393 - val_auc_1: 0.9770\n",
            "\n",
            "Epoch 00012: val_loss did not improve from 0.00088\n",
            "Epoch 13/1000\n",
            "6337/6337 [==============================] - 188s 30ms/step - loss: 8.2284e-04 - acc: 0.2520 - binary_accuracy: 0.9997 - recall_1: 0.9317 - precision_1: 0.9427 - auc_1: 0.9789 - val_loss: 8.8650e-04 - val_acc: 0.2494 - val_binary_accuracy: 0.9997 - val_recall_1: 0.9237 - val_precision_1: 0.9441 - val_auc_1: 0.9761\n",
            "\n",
            "Epoch 00013: val_loss did not improve from 0.00088\n",
            "Epoch 14/1000\n",
            "6337/6337 [==============================] - 188s 30ms/step - loss: 8.0592e-04 - acc: 0.2517 - binary_accuracy: 0.9997 - recall_1: 0.9322 - precision_1: 0.9454 - auc_1: 0.9797 - val_loss: 8.6607e-04 - val_acc: 0.2456 - val_binary_accuracy: 0.9997 - val_recall_1: 0.9275 - val_precision_1: 0.9387 - val_auc_1: 0.9773\n",
            "\n",
            "Epoch 00014: val_loss improved from 0.00088 to 0.00087, saving model to /content/drive/MyDrive/data/shuff-best-model.h5\n",
            "Epoch 15/1000\n",
            "6337/6337 [==============================] - 188s 30ms/step - loss: 7.6795e-04 - acc: 0.2509 - binary_accuracy: 0.9997 - recall_1: 0.9376 - precision_1: 0.9458 - auc_1: 0.9816 - val_loss: 8.7117e-04 - val_acc: 0.2476 - val_binary_accuracy: 0.9997 - val_recall_1: 0.9232 - val_precision_1: 0.9450 - val_auc_1: 0.9773\n",
            "\n",
            "Epoch 00015: val_loss did not improve from 0.00087\n",
            "Epoch 16/1000\n",
            "6337/6337 [==============================] - 187s 30ms/step - loss: 7.5658e-04 - acc: 0.2503 - binary_accuracy: 0.9997 - recall_1: 0.9370 - precision_1: 0.9461 - auc_1: 0.9819 - val_loss: 8.9698e-04 - val_acc: 0.2472 - val_binary_accuracy: 0.9997 - val_recall_1: 0.9326 - val_precision_1: 0.9348 - val_auc_1: 0.9754\n",
            "\n",
            "Epoch 00016: val_loss did not improve from 0.00087\n",
            "Epoch 17/1000\n",
            "6337/6337 [==============================] - 188s 30ms/step - loss: 7.2821e-04 - acc: 0.2522 - binary_accuracy: 0.9997 - recall_1: 0.9400 - precision_1: 0.9476 - auc_1: 0.9836 - val_loss: 9.0435e-04 - val_acc: 0.2557 - val_binary_accuracy: 0.9997 - val_recall_1: 0.9295 - val_precision_1: 0.9389 - val_auc_1: 0.9739\n",
            "\n",
            "Epoch 00017: val_loss did not improve from 0.00087\n",
            "Epoch 18/1000\n",
            "6337/6337 [==============================] - 188s 30ms/step - loss: 7.0777e-04 - acc: 0.2517 - binary_accuracy: 0.9997 - recall_1: 0.9423 - precision_1: 0.9496 - auc_1: 0.9840 - val_loss: 8.8289e-04 - val_acc: 0.2448 - val_binary_accuracy: 0.9997 - val_recall_1: 0.9358 - val_precision_1: 0.9354 - val_auc_1: 0.9756\n",
            "\n",
            "Epoch 00018: val_loss did not improve from 0.00087\n",
            "Epoch 19/1000\n",
            "6337/6337 [==============================] - 187s 30ms/step - loss: 7.0679e-04 - acc: 0.2523 - binary_accuracy: 0.9997 - recall_1: 0.9433 - precision_1: 0.9492 - auc_1: 0.9838 - val_loss: 8.6755e-04 - val_acc: 0.2516 - val_binary_accuracy: 0.9997 - val_recall_1: 0.9248 - val_precision_1: 0.9403 - val_auc_1: 0.9772\n",
            "\n",
            "Epoch 00019: val_loss did not improve from 0.00087\n",
            "Epoch 20/1000\n",
            "6337/6337 [==============================] - 187s 30ms/step - loss: 6.9147e-04 - acc: 0.2525 - binary_accuracy: 0.9997 - recall_1: 0.9431 - precision_1: 0.9498 - auc_1: 0.9847 - val_loss: 9.2122e-04 - val_acc: 0.2481 - val_binary_accuracy: 0.9997 - val_recall_1: 0.9316 - val_precision_1: 0.9364 - val_auc_1: 0.9737\n",
            "\n",
            "Epoch 00020: val_loss did not improve from 0.00087\n",
            "Epoch 21/1000\n",
            "6337/6337 [==============================] - 188s 30ms/step - loss: 6.6771e-04 - acc: 0.2517 - binary_accuracy: 0.9998 - recall_1: 0.9467 - precision_1: 0.9513 - auc_1: 0.9855 - val_loss: 8.8456e-04 - val_acc: 0.2463 - val_binary_accuracy: 0.9997 - val_recall_1: 0.9282 - val_precision_1: 0.9392 - val_auc_1: 0.9759\n",
            "\n",
            "Epoch 00021: val_loss did not improve from 0.00087\n",
            "Epoch 22/1000\n",
            "6337/6337 [==============================] - 189s 30ms/step - loss: 6.6494e-04 - acc: 0.2500 - binary_accuracy: 0.9998 - recall_1: 0.9467 - precision_1: 0.9509 - auc_1: 0.9854 - val_loss: 8.9719e-04 - val_acc: 0.2431 - val_binary_accuracy: 0.9997 - val_recall_1: 0.9295 - val_precision_1: 0.9373 - val_auc_1: 0.9754\n",
            "\n",
            "Epoch 00022: val_loss did not improve from 0.00087\n",
            "Epoch 23/1000\n",
            "6337/6337 [==============================] - 189s 30ms/step - loss: 6.4660e-04 - acc: 0.2513 - binary_accuracy: 0.9998 - recall_1: 0.9486 - precision_1: 0.9530 - auc_1: 0.9862 - val_loss: 8.9264e-04 - val_acc: 0.2563 - val_binary_accuracy: 0.9997 - val_recall_1: 0.9319 - val_precision_1: 0.9365 - val_auc_1: 0.9753\n",
            "\n",
            "Epoch 00023: val_loss did not improve from 0.00087\n",
            "Epoch 24/1000\n",
            "6337/6337 [==============================] - 189s 30ms/step - loss: 6.4822e-04 - acc: 0.2549 - binary_accuracy: 0.9998 - recall_1: 0.9502 - precision_1: 0.9526 - auc_1: 0.9858 - val_loss: 9.4345e-04 - val_acc: 0.2586 - val_binary_accuracy: 0.9997 - val_recall_1: 0.9252 - val_precision_1: 0.9412 - val_auc_1: 0.9721\n",
            "\n",
            "Epoch 00024: val_loss did not improve from 0.00087\n",
            "Epoch 25/1000\n",
            "6337/6337 [==============================] - 189s 30ms/step - loss: 6.4410e-04 - acc: 0.2566 - binary_accuracy: 0.9998 - recall_1: 0.9482 - precision_1: 0.9535 - auc_1: 0.9861 - val_loss: 8.9409e-04 - val_acc: 0.2578 - val_binary_accuracy: 0.9997 - val_recall_1: 0.9300 - val_precision_1: 0.9368 - val_auc_1: 0.9750\n",
            "\n",
            "Epoch 00025: val_loss did not improve from 0.00087\n",
            "Epoch 26/1000\n",
            "6337/6337 [==============================] - 189s 30ms/step - loss: 6.2736e-04 - acc: 0.2537 - binary_accuracy: 0.9998 - recall_1: 0.9493 - precision_1: 0.9545 - auc_1: 0.9868 - val_loss: 9.1139e-04 - val_acc: 0.2509 - val_binary_accuracy: 0.9997 - val_recall_1: 0.9385 - val_precision_1: 0.9300 - val_auc_1: 0.9752\n",
            "\n",
            "Epoch 00026: val_loss did not improve from 0.00087\n",
            "Epoch 27/1000\n",
            "6337/6337 [==============================] - 188s 30ms/step - loss: 6.0496e-04 - acc: 0.2518 - binary_accuracy: 0.9998 - recall_1: 0.9518 - precision_1: 0.9545 - auc_1: 0.9880 - val_loss: 8.9911e-04 - val_acc: 0.2508 - val_binary_accuracy: 0.9997 - val_recall_1: 0.9350 - val_precision_1: 0.9314 - val_auc_1: 0.9748\n",
            "\n",
            "Epoch 00027: val_loss did not improve from 0.00087\n",
            "Epoch 28/1000\n",
            "6337/6337 [==============================] - 189s 30ms/step - loss: 6.0700e-04 - acc: 0.2512 - binary_accuracy: 0.9998 - recall_1: 0.9514 - precision_1: 0.9550 - auc_1: 0.9876 - val_loss: 9.7181e-04 - val_acc: 0.2607 - val_binary_accuracy: 0.9997 - val_recall_1: 0.9276 - val_precision_1: 0.9400 - val_auc_1: 0.9709\n",
            "\n",
            "Epoch 00028: val_loss did not improve from 0.00087\n",
            "Epoch 29/1000\n",
            "6337/6337 [==============================] - 188s 30ms/step - loss: 6.0913e-04 - acc: 0.2540 - binary_accuracy: 0.9998 - recall_1: 0.9506 - precision_1: 0.9551 - auc_1: 0.9875 - val_loss: 9.6078e-04 - val_acc: 0.2552 - val_binary_accuracy: 0.9997 - val_recall_1: 0.9296 - val_precision_1: 0.9386 - val_auc_1: 0.9714\n",
            "\n",
            "Epoch 00029: val_loss did not improve from 0.00087\n",
            "Epoch 30/1000\n",
            "6337/6337 [==============================] - 188s 30ms/step - loss: 6.0494e-04 - acc: 0.2536 - binary_accuracy: 0.9998 - recall_1: 0.9520 - precision_1: 0.9560 - auc_1: 0.9875 - val_loss: 9.3683e-04 - val_acc: 0.2494 - val_binary_accuracy: 0.9997 - val_recall_1: 0.9289 - val_precision_1: 0.9393 - val_auc_1: 0.9729\n",
            "\n",
            "Epoch 00030: val_loss did not improve from 0.00087\n",
            "Epoch 31/1000\n",
            "6337/6337 [==============================] - 189s 30ms/step - loss: 5.8276e-04 - acc: 0.2507 - binary_accuracy: 0.9998 - recall_1: 0.9538 - precision_1: 0.9578 - auc_1: 0.9883 - val_loss: 9.7310e-04 - val_acc: 0.2553 - val_binary_accuracy: 0.9997 - val_recall_1: 0.9279 - val_precision_1: 0.9386 - val_auc_1: 0.9715\n",
            "\n",
            "Epoch 00031: val_loss did not improve from 0.00087\n",
            "Epoch 32/1000\n",
            "6337/6337 [==============================] - 189s 30ms/step - loss: 6.0194e-04 - acc: 0.2551 - binary_accuracy: 0.9998 - recall_1: 0.9521 - precision_1: 0.9560 - auc_1: 0.9876 - val_loss: 9.3432e-04 - val_acc: 0.2505 - val_binary_accuracy: 0.9997 - val_recall_1: 0.9269 - val_precision_1: 0.9403 - val_auc_1: 0.9728\n",
            "\n",
            "Epoch 00032: val_loss did not improve from 0.00087\n",
            "Epoch 33/1000\n",
            "6337/6337 [==============================] - 190s 30ms/step - loss: 5.8334e-04 - acc: 0.2510 - binary_accuracy: 0.9998 - recall_1: 0.9553 - precision_1: 0.9550 - auc_1: 0.9885 - val_loss: 9.1070e-04 - val_acc: 0.2547 - val_binary_accuracy: 0.9997 - val_recall_1: 0.9329 - val_precision_1: 0.9361 - val_auc_1: 0.9740\n",
            "\n",
            "Epoch 00033: val_loss did not improve from 0.00087\n",
            "Epoch 34/1000\n",
            "6337/6337 [==============================] - 189s 30ms/step - loss: 5.7068e-04 - acc: 0.2524 - binary_accuracy: 0.9998 - recall_1: 0.9549 - precision_1: 0.9572 - auc_1: 0.9887 - val_loss: 9.1536e-04 - val_acc: 0.2446 - val_binary_accuracy: 0.9997 - val_recall_1: 0.9325 - val_precision_1: 0.9339 - val_auc_1: 0.9737\n",
            "\n",
            "Epoch 00034: val_loss did not improve from 0.00087\n"
          ],
          "name": "stdout"
        },
        {
          "output_type": "execute_result",
          "data": {
            "text/plain": [
              "<tensorflow.python.keras.callbacks.History at 0x7ff0e4143278>"
            ]
          },
          "metadata": {
            "tags": []
          },
          "execution_count": 34
        }
      ]
    },
    {
      "cell_type": "code",
      "metadata": {
        "id": "YMTAuuAo_wNV"
      },
      "source": [
        "scores = bimodel.evaluate(X_test, y_test, verbose=0)"
      ],
      "execution_count": null,
      "outputs": []
    },
    {
      "cell_type": "code",
      "metadata": {
        "colab": {
          "base_uri": "https://localhost:8080/"
        },
        "id": "h2JyX62F1tMX",
        "outputId": "a3af6b54-2bb0-4fae-fa5d-5a2bbcba8db7"
      },
      "source": [
        "# ['acc', Recall(), Precision(), AUC(curve='PR')]\n",
        "print(\"%s: %.2f%%\" % (bimodel.metrics_names[5], scores[2]*100))"
      ],
      "execution_count": null,
      "outputs": [
        {
          "output_type": "stream",
          "text": [
            "auc_3: 99.97%\n"
          ],
          "name": "stdout"
        }
      ]
    },
    {
      "cell_type": "code",
      "metadata": {
        "id": "1tsJF0qnRvt0"
      },
      "source": [
        "pred = bimodel.predict(X_test, batch_size=128)"
      ],
      "execution_count": null,
      "outputs": []
    },
    {
      "cell_type": "code",
      "metadata": {
        "colab": {
          "base_uri": "https://localhost:8080/"
        },
        "id": "ZvXmGVw2Wla3",
        "outputId": "e2a5d615-b283-4e16-d1c1-ea802c8752cc"
      },
      "source": [
        "pred_classes = bimodel.predict_classes(X_test, batch_size=128)"
      ],
      "execution_count": null,
      "outputs": [
        {
          "output_type": "stream",
          "text": [
            "/usr/local/lib/python3.6/dist-packages/tensorflow/python/keras/engine/sequential.py:450: UserWarning: `model.predict_classes()` is deprecated and will be removed after 2021-01-01. Please use instead:* `np.argmax(model.predict(x), axis=-1)`,   if your model does multi-class classification   (e.g. if it uses a `softmax` last-layer activation).* `(model.predict(x) > 0.5).astype(\"int32\")`,   if your model does binary classification   (e.g. if it uses a `sigmoid` last-layer activation).\n",
            "  warnings.warn('`model.predict_classes()` is deprecated and '\n"
          ],
          "name": "stderr"
        }
      ]
    },
    {
      "cell_type": "code",
      "metadata": {
        "id": "yd_wLBwLTp_J"
      },
      "source": [
        "pred = np.array(pred)\n",
        "y_real = y_test"
      ],
      "execution_count": null,
      "outputs": []
    },
    {
      "cell_type": "code",
      "metadata": {
        "id": "rd4HXJ1DTz1o"
      },
      "source": [
        "pred_flat = pred.flatten()\n",
        "y_real_flat = y_real.flatten()"
      ],
      "execution_count": null,
      "outputs": []
    },
    {
      "cell_type": "code",
      "metadata": {
        "colab": {
          "base_uri": "https://localhost:8080/"
        },
        "id": "ckWjjlilU0kg",
        "outputId": "4626f096-f6aa-4dc5-e07d-edeabf8b7fab"
      },
      "source": [
        "pred_classes = np.array(pred_flat > 0.3, dtype='int')\n",
        "pred_classes.shape"
      ],
      "execution_count": null,
      "outputs": [
        {
          "output_type": "execute_result",
          "data": {
            "text/plain": [
              "(5069500,)"
            ]
          },
          "metadata": {
            "tags": []
          },
          "execution_count": 99
        }
      ]
    },
    {
      "cell_type": "code",
      "metadata": {
        "colab": {
          "base_uri": "https://localhost:8080/"
        },
        "id": "NwfKLJZ6XzSn",
        "outputId": "61116def-322a-474e-91ad-66f63c12c7c1"
      },
      "source": [
        "from sklearn.metrics import classification_report\n",
        "\n",
        "print(classification_report(y_real_flat, pred_classes))"
      ],
      "execution_count": null,
      "outputs": [
        {
          "output_type": "stream",
          "text": [
            "              precision    recall  f1-score   support\n",
            "\n",
            "           0       1.00      1.00      1.00   5057341\n",
            "           1       0.92      0.95      0.94     12159\n",
            "\n",
            "    accuracy                           1.00   5069500\n",
            "   macro avg       0.96      0.98      0.97   5069500\n",
            "weighted avg       1.00      1.00      1.00   5069500\n",
            "\n"
          ],
          "name": "stdout"
        }
      ]
    },
    {
      "cell_type": "code",
      "metadata": {
        "colab": {
          "base_uri": "https://localhost:8080/"
        },
        "id": "LZxpjH_zFgJY",
        "outputId": "7fcb64bd-6e52-4a27-9388-66ede75f7783"
      },
      "source": [
        "X_test[0:10].shape"
      ],
      "execution_count": null,
      "outputs": [
        {
          "output_type": "execute_result",
          "data": {
            "text/plain": [
              "(10, 100)"
            ]
          },
          "metadata": {
            "tags": []
          },
          "execution_count": 43
        }
      ]
    },
    {
      "cell_type": "code",
      "metadata": {
        "id": "js9Ycq64XLs1"
      },
      "source": [
        "tp = bimodel.predict(X_test[50:200])"
      ],
      "execution_count": null,
      "outputs": []
    },
    {
      "cell_type": "code",
      "metadata": {
        "colab": {
          "base_uri": "https://localhost:8080/"
        },
        "id": "jkorMLwtXXwf",
        "outputId": "b5234df1-45f7-42e3-ec9f-2916e8c500cf"
      },
      "source": [
        "ftp = np.array(tp > 0.5).reshape(1, tp.shape[0] * tp.shape[1])\n",
        "fxt = np.array(X_test[50:200]).reshape(1, tp.shape[0] * tp.shape[1])\n",
        "ftp.shape"
      ],
      "execution_count": null,
      "outputs": [
        {
          "output_type": "execute_result",
          "data": {
            "text/plain": [
              "(1, 15000)"
            ]
          },
          "metadata": {
            "tags": []
          },
          "execution_count": 45
        }
      ]
    },
    {
      "cell_type": "code",
      "metadata": {
        "colab": {
          "base_uri": "https://localhost:8080/"
        },
        "id": "hXTOqhaOXgg_",
        "outputId": "e352e2f3-5f54-443d-c1e3-b88b41b61a0f"
      },
      "source": [
        "for c in range(len(fxt[0])):\n",
        "  if ftp[0][c]:\n",
        "    print('\\n---------------------------------------\\n')\n",
        "  else:\n",
        "    print(chr(int(fxt[0][c])), end='')"
      ],
      "execution_count": null,
      "outputs": [
        {
          "output_type": "stream",
          "text": [
            "                \"%d au%n\"+\n",
            "                  \"%.1f ly%n\"+\n",
            "                  \"%f pc\",\n",
            "               mate is the maximum observed value */\n",
            "        double k = yvalues[ yvalues.length -1 ];\n",
            "        /* Gry\";\n",
            "    while (choice.equalsIgnoreCase(\"y\")) {\n",
            "\n",
            "        System.out.println(\"Enter numerical grade: \"\n",
            "\n",
            "            line = reader.readLine();\n",
            "            System.out.println(line);\n",
            "\n",
            "        } catch (IOExrseY);\n",
            "            }\n",
            "            if (character.contains(\"z\")) {\n",
            "                System.out.println(me int activeThreads = 0;\n",
            "  private long c1 = 0;\n",
            "  private long c2 = 0;\n",
            "\n",
            "  public void inc1() {\n",
            "    t; responseCode++) {\n",
            "            UploadResponse response = UploadResponse.getUploadResponse(responseC, int b) {\n",
            "  if (a - b < 0) { // or simply (a < b) \n",
            "    return 0;\n",
            "  }\n",
            "\n",
            "  return divide(a - b, b) + 1tring[] args) {\n",
            "\n",
            "    Properties prop = new Properties();\n",
            "    OutputStream output = null;\n",
            "\n",
            "    try {\n",
            ".nextInt();  \n",
            " System.out.print(\"Enter lengtht: \");\n",
            " int length = scanner.nextInt();\n",
            " this.width = wed \";\n",
            "            }\n",
            "\n",
            "        }\n",
            "        return roomList;\n",
            "    }\n",
            "\n",
            "\n",
            "    public static Room getRoom(Striny(7L, new Item(7969768)),\n",
            "            entry(8L, new Item(68868486)),\n",
            "            entry(9L, new Item( \"text/html\");\n",
            "\n",
            "        javax.mail.Transport.send(msg);\n",
            "        System.out.println(\"send email\");\n",
            "\n",
            "  abc = \"\";\n",
            "    for (String a : tokens) {\n",
            "        abc = abc + a;\n",
            "    }\n",
            "\n",
            "    System.out.println(abc);\n",
            "list.get(i).equals(\"M\")) {\n",
            "    flag = \"M\";\n",
            "    break;\n",
            "}\n",
            "---------------------------------------\n",
            "\n",
            "for (int i = 0; i < list.size(); i++) {\n",
            "     something like:\n",
            "     * ActiveVm [pid=7992, name=my.code.z025.util.launch.RunHttpServer]\n",
            "     * ActiriteToFile(String path, byte[] key) throws IOException {\n",
            "    File f = new File(path);\n",
            "    f.getParen   String source;\n",
            "        int line;\n",
            "\n",
            "        public Callee(String cName, String mName, String mDesc,t( \" \" );\n",
            "    String[] toReturn = new String[split.length];\n",
            "    for (int i = 0; i < split.length;i++current;\n",
            "\n",
            "    for (int i = 0; i < arrayUnion.size(); i++) {       \n",
            "            current = arrayUnion.(?<year>\\\\d{4})/(?<month>\\\\d{1,2})/(?<day>\\\\d{1,2})\");\n",
            "Matcher matcher = pattern.matcher(input);\n",
            "\n",
            "if-x2)*(x1-x2) + (y1-y2)*(y1-y2));\n",
            "        //compare with maxDistance\n",
            "        //assign maxDistance if ABC\");\n",
            "        System.out.println(test.text);\n",
            "    }\n",
            "}\n",
            "---------------------------------------\n",
            "\n",
            "interface Question {} // marker interface, not\"keyStoreName\");\n",
            "        ks.load(fis, password);\n",
            "    } finally {\n",
            "        if (fis != null) {\n",
            "        InputStream#read(byte[])} method fails\n",
            "     */\n",
            "    public static CRC64 fromInputStream(InputStream ie.getContentPane().add(txtMessage3);\n",
            "                    txtMessage3.setColumns(10);\n",
            "\n",
            "              is more than 20\");\n",
            "        }\n",
            "    }\n",
            "}\n",
            "---------------------------------------\n",
            "\n",
            "long timeInMillis = System.currentTimeMillis();\n",
            "        Calenda  output[i++] = line;\n",
            "    }\n",
            "\n",
            "    for(String line : input) {\n",
            "        if(!line.contains(\"error\"))\n",
            "    ublic Point2D copy() {\n",
            "        return new Point2D(this);\n",
            "    } \n",
            "}\n",
            "---------------------------------------\n",
            "\n",
            "static Map<String, World> WorldsByhile (l <= r)\n",
            "        {\n",
            "            // check values on left are bigger than the pivot\n",
            "            whpache.commons.lang3.StringUtils.join(arrayWithAllExceptLast, \",\") + \" and \" + last;\n",
            "---------------------------------------\n",
            "\n",
            "public Question nput = input.nextInt();\n",
            "            dropDisk(board, userInput , player1);\n",
            "            printPattern(b           doGuess();\n",
            "            }\n",
            "            return;\n",
            "        }\n",
            "---------------------------------------\n",
            "\n",
            "import java.util.*;\n",
            "public class savaConcepts();\n",
            "       jc = new JavaConcepts();\n",
            "         jc = new JavaConcepts();\n",
            "           jc = new.put(\"CONSIDERATION\", seqA!=null?seqB.getTagValue(\"34P\"):null);\n",
            "                String date=str.subs ? o2 == null ? 0 : -1 : 1;\n",
            "\n",
            "        // Splitting both input strings by the above patterns\n",
            "        S\n",
            "}\n",
            "---------------------------------------\n",
            "\n",
            "public class Variables {\n",
            "    public static void main(String[] args) {\n",
            "        int myNumber;\n",
            "     r multiple whitespaces) in a List<String>.\n",
            "     * NOTE: This method uses String concatenation in a l if (col.equalsIgnoreCase(\"cewRole\")) {\n",
            "        return ROLE;\n",
            "    }      \n",
            "}\n",
            "---------------------------------------\n",
            "\n",
            "public enum EConstants {\n",
            ";\n",
            "            }\n",
            "        }\n",
            "---------------------------------------\n",
            "\n",
            "String confirm; \n",
            "    boolean done = false; \n",
            "    double amount1 = 0; \n",
            "    i...}\n",
            "public class Set2<U> extends AbstractSetExtended<U> {...}\n",
            "@Test\n",
            "  public void validateEqualsHas   txtarea.append(\"7\");txtarea2.append(\"7\");}\n",
            "    }\n",
            "    else if(btn==B[7])\n",
            "    {\n",
            "    if(equalclickedollectionsDisjoint(nok)); // true\n",
            "  System.out.println(\"Method 3 (Java 8 Streams): \" + method3_Usingght = \" + height + \" cm\");\n",
            "        if (inColor) {\n",
            "            System.out.println(\"Print is Full colo= getDayFromDate(this.startTime);\n",
            "        long endDay = getDayFromDate(this.endTime);\n",
            "\n",
            "        long   System.out.println(\"Added flight \" + id);\n",
            "    }\n",
            "}\n",
            "---------------------------------------\n",
            "\n",
            "public static Set<DataPair> getAllWords(String[] (st == strLength) {\n",
            "                break;\n",
            "            }\n",
            "        }\n",
            "        while ((st < len) && (vat.print(array[a][b] + \" \");\n",
            "    }\n",
            "    System.out.println();    //new line\n",
            "}\n",
            "---------------------------------------\n",
            "\n",
            "for(int a = 0; a<3; a++)r[3]); \n",
            "        }\n",
            "        }\n",
            "---------------------------------------\n",
            "\n",
            "String line = reader.nextLine ();\n",
            "while (line != null) {\n",
            "\n",
            "  if (line.lents = 40;\n",
            "    private String mCharClass;\n",
            "    private String classType;\n",
            "\n",
            "    public Character createHe (sourceText == null || sourceText.isEmpty() || !Character.isDigit(sourceText.charAt(0))) {\n",
            "        ntln(obj.getClass().getSimpleName());  // Prints ClassA!\n",
            "---------------------------------------\n",
            "\n",
            "public class ClassA {\n",
            "    private ClassA() \n",
            "\n",
            "    public ImmutableClassExample(int i, String n, HashMap<String,String> hm){\n",
            "        System.out.py()) && x.getQty() == o.getQty())\n",
            "                    .mapToInt(t -> t.getPrice()).sum());\n",
            "\n",
            "         range.upper.isAfter(upper))) {\n",
            "      return 1;\n",
            "    }\n",
            "    return 0;\n",
            "  }\n",
            "---------------------------------------\n",
            "\n",
            "import java.util.Scanner;\n",
            "\n",
            "pswords;\n",
            "\n",
            "    /**\n",
            "     * Launch the application.\n",
            "     */\n",
            "    public static void main(String[] args) {\",\"V\",\"W\",\"X\",\"Y\",\"Z\",\"1\", \"2\", \"3\", \"4\", \"5\", \"6\", \"7\", \"8\", \"9\", \"0\"};\n",
            "    String[] morseCode = {\"myList = new ArrayList<MyExcelRowObject> ();\n",
            "\n",
            "    //here you manipulate your rows and add them to yo     for (int i = 0; i < num; i++) {\n",
            "            System.out.print(\"*\");\n",
            "        }\n",
            "        System.out<MenuItem> getAvailableItems(List<MenuItem> items) {\n",
            "    List<MenuItem> availableItems = new ArrayLirmat( DateTimeFormatter.ISO_LOCAL_DATE_TIME )\n",
            "    .replace( \"T\" , \" \" )  \n",
            ";\n",
            "---------------------------------------\n",
            "\n",
            "public static int numberleep:\");\n",
            "int h = input.nextInt();\n",
            "String first = str.substring(0, i);\n",
            "char second = str.charAt(j);\n",
            "S   public Sub()\n",
            "    {\n",
            "        super();\n",
            "        // Do some stuff\n",
            "    }\n",
            "}\n",
            "---------------------------------------\n",
            "\n",
            "{\n",
            "    return 5.0 / 9.0 * (fa;\n",
            "      return true;\n",
            "    }\n",
            "    return result; \n",
            "  }\n",
            "---------------------------------------\n",
            "\n",
            "class Test\n",
            "{\n",
            "\n",
            "..\n",
            "---------------------------------------\n",
            "\n",
            "interface Cipher {\n",
            " doAction();\n",
            "t com.stackoverflow.Main.main(Main.java:15)\n",
            "---------------------------------------\n",
            "\n",
            "if(elementsRemaining <= 0) \n",
            " {\n",
            "    ....\n",
            "    elementsRema    Photo title = photos.get(index);\n",
            "        if (title.getTitle().equals(albumtitle))\n",
            "            Syn element0;\n",
            "    }\n",
            "\n",
            "    public V getElement1() {\n",
            "        return element1;\n",
            "    }\n",
            "\n",
            "}\n",
            "---------------------------------------\n",
            "\n",
            "Pattern pattern = \n",
            "{\n",
            "    private String name;\n",
            "    private String pos;\n",
            "    private Integer salary;\n",
            "    private Integer  newAccount1();\n",
            "}\n",
            "else if (<insert test to tell if this should be of type Account2>){\n",
            "     customer alsIgnoreCase(\"Y\"))\n",
            "{\n",
            "    System.out.println(\"\\nPlaceholder\");\n",
            "}\n",
            "---------------------------------------\n",
            "\n",
            "List<String> name = new ArrayList<S   {\n",
            "        super(msg);\n",
            "    }\n",
            "\n",
            "    ....\n",
            "    .....\n",
            " }\n",
            "---------------------------------------\n",
            "\n",
            "class ExceptionDemo\n",
            " {\n",
            "    public static void .out.println();\n",
            "        }\n",
            "    }\n",
            "}\n",
            "---------------------------------------\n",
            "\n",
            "1 \n",
            "1 22 \n",
            "1 22 333 \n",
            "1 22 333 4444\n",
            "---------------------------------------\n",
            "\n",
            "public static boolean equals(Stri.println();\n",
            "    }\n",
            "\n",
            "scanner.close();\n",
            "---------------------------------------\n",
            "\n",
            "FileInputStream fileInputStream = new FileInputStream(\"numbers.tget null\n",
            "}\n",
            "---------------------------------------\n",
            "\n",
            "import java.io.*;\n",
            "import javax.script.ScriptEngineManager;\n",
            "import javax.script.ScriptEngi024);\n",
            "\n",
            " System.out.println(\"bytes : \" + bytes);\n",
            " System.out.println(\"kilobytes : \" + kilobytes);\n",
            " Sy.matcher(exp);\n",
            "\n",
            "          while (m.find( )) {\n",
            "             System.out.println(\"Found value: \" + m.grlang.reflect.Method;\n",
            "import java.net.URL;\n",
            "import java.net.URLClassLoader;\n",
            "import java.util.regex.Mat                      if (j == guesses[k]) {\n",
            "                            System.out.print(\"X\");\n",
            "    thod) {\n",
            "        Runnable runnable = new Runnable() {\n",
            "            public void run() {\n",
            "               nuBar();\n",
            "        setJMenuBar(JMB);\n",
            "        JMenu file = new JMenu(\"File\");\n",
            "        JMenu edit = new at(\"%n%n%34s Subtotal %6s %,17.2f\"\n",
            "                                                      + \"%n%31s Tarts);\n",
            "---------------------------------------\n",
            "\n",
            "package tablicezad2;\n",
            "\n",
            "import java.util.Random;\n",
            "\n",
            "\n",
            "public class TabliceZad2 {\n",
            "\n",
            "    public stati             System.out.println(\"Yes\");\n",
            "                        found = true;\n",
            "                      ent = 10;\n",
            "        }\n",
            "        student++;\n",
            "    }\n",
            "    System.out.println(\"sum is\" + sum);\n",
            "}\n",
            "---------------------------------------\n",
            "\n",
            "int student =\n",
            "    break looplbl;\n",
            "}\n",
            "---------------------------------------\n",
            "\n",
            "public class HashMapTest {\n",
            "    public static HashMap<String, Integer> ageMap =  private character summer = new character();\n",
            "    private character jerry = new character();\n",
            "\n",
            "    pu  npasstxt.setText(null);\n",
            "                                }\n",
            "                            }\n",
            "          code here\n",
            "    }\n",
            "}\n",
            "\n",
            "//calling the function\n",
            "function(new XYZ());\n",
            "\n",
            "//second way\n",
            "function(new Stock(){\n",
            " bis.read(buffer)) >= 0) {<br>\n",
            "      String line = new String(buffer, 0, len);<br>\n",
            "---------------------------------------\n",
            "\n",
            "SomeObject obj = n else\n",
            "            {\n",
            "                // ... I do't know what to do if data is not in correct form\n",
            "         dialog.toFront();\n",
            "                } else {\n",
            "                    dialog.setVisible(false);\n",
            "     t:\n",
            "                break;\n",
            "            case Ref.Widget.MolyBolt.ThreadsPerInch:\n",
            "                breakatural order\n",
            "    final MinMaxPriorityQueue<Integer> queue = MinMaxPriorityQueue\n",
            "            .maximum System.out.println(\"Number is not prime number\");\n",
            "        }\n",
            "    }\n",
            "}\n",
            "---------------------------------------\n",
            "\n",
            "public class Main {\n",
            "    public     \"MMM dd,yyyy\",\n",
            "            \"dd/MM/yyyy HH:mm:ss\",\n",
            "            \"dd/MM/yyyy\",\n",
            "            \"dd-MM-yrintln(value);\n",
            "    }\n",
            "}\n",
            "---------------------------------------\n",
            "\n",
            "int a=25,b;\n",
            "boolean value;\n",
            "for (double i=1;i<=a;i++)     {\n",
            "    b=5*(int)i; \n",
            " ring[] args) {\n",
            "        System.out.println(generate(10));\n",
            "    }\n",
            "\n",
            "    public static String generate(inx)) {\n",
            "       System.out.println(\"true\");\n",
            "    } else {\n",
            "       System.out.println(\"false\");\n",
            "    }\n",
            "}\n",
            "---------------------------------------\n",
            "\n",
            "pu}\n",
            "if (wholenumber2  != 0) {\n",
            "    // calculate   \n",
            "}else{\n",
            "  //show error message\n",
            "}\n",
            "---------------------------------------\n",
            "\n",
            "try{\n",
            "     quotient =Millis = date.getTime();\n",
            "long unixTimestamp = timestampMillis / 1000;\n",
            "---------------------------------------\n",
            "\n",
            "String[][] userPass = { { \"useit(\"=\", 2)[1];\n",
            "        break;\n",
            "    }\n",
            "}\n",
            "// ...\n",
            "String string = new String(first64kb, charset);\n",
            "---------------------------------------\n",
            "\n",
            "import cl343_beta.zip -d ${CL_HOME}/\n",
            "\n",
            "# fix executable bits\n",
            "chmod +x tools/mkhdr.sh\n",
            "\n",
            "# re-generate the bindl List<String> lines = Files.lines(path, StandardCharsets.UTF_8)\n",
            "    .filter(someLambdaImplementingP    array[0]=10;\n",
            "        array[1]=20;\n",
            "        array[2]=30;\n",
            "    }\n",
            "}\n",
            "---------------------------------------\n",
            "\n",
            "public class TestDigits {\n",
            "\n",
            "publict in buf being \"olleh world\"\n",
            " */\n",
            "reverse(StringBuffer s, int startIndex, int wordLength)\n",
            "\n",
            "/* Now the    public void actionPerformed(ActionEvent e){\n",
            "            cls.rollText(e);\n",
            "        }\n",
            "    }\n",
            "\n",
            "    pu  int count = 0;\n",
            "    for(String str : strArray) {\n",
            "        if(occurenceMap.containsKey(str)) {\n",
            "      (Arrays.toString(letters));\n",
            "}\n",
            "---------------------------------------\n",
            "\n",
            "import java.util.*;\n",
            "\n",
            "    public class Word {\n",
            "\n",
            "    public static void m animals = new ArrayList<>();\n",
            "    animals.add(new Lion());\n",
            "    animals.add(new Dog());\n",
            "    animals.g+sbf);\n",
            "---------------------------------------\n",
            "\n",
            "for (String str : stringList) {\n",
            "    if (str.startsWith(\"abc/xyz\")) {//here even you could usenFunc(Example::bar, arr);\n",
            "    }\n",
            "\n",
            "    public static void foo(int A[]) {\n",
            "        // do stuff\n",
            "    }\n",
            "\n",
            "         }\n",
            "    }\n",
            "}\n",
            "---------------------------------------\n",
            "\n",
            "private void print() {\n",
            "    boolean playerGuessedCorrectly = false;\n",
            "    while(!playe          }\n",
            "---------------------------------------\n",
            "\n",
            "class Test {\n",
            "    public static void main(String[] args) {\n",
            "        Quadratic q = new Quad   else if (...)\n",
            "        ...\n",
            "    else\n",
            "        break;\n",
            "}\n",
            "---------------------------------------\n",
            "\n",
            "public class StringFoo extends Foo<String>{}\n",
            "ar % 4 == 0\n",
            "                && (year % 100 != 0\n",
            "                || year % 100 == 0\n",
            "                &NUMBER_OF_GUYS = 5; // determines the number of guys.\n",
            "    public static void main(String[] args) {\n",
            "\n",
            " 6; i++)\n",
            "      {\n",
            "        range = max - min + 1;\n",
            "        sixNum = rndNumbers.nextInt(range) + min;\n",
            "\n",
            " hangeIconsTest extends JFrame {\n",
            "    private boolean icon1IsActive;\n",
            "\n",
            "    public ChangeIconsTest(Icon \n",
            "    /* Make sure desiredNumberOfColumns contains a value greater than 0 and\n",
            "       less then (Integplayer) {\n",
            "               return false;\n",
            "           }\n",
            "       }\n",
            "       return true;\n",
            "  }\n",
            "---------------------------------------\n",
            "\n",
            "boolean isDiago       5\n",
            "75 <= x < 100                     3                            25\n",
            "---------------------------------------\n",
            "\n",
            "System.out.print(\"This is    return true;\n",
            "}\n",
            "---------------------------------------\n",
            "\n",
            "....\n",
            "    if(0<=i && i<=2 && 0<=j && j<=2){for(i=0;i<=2;i++){for(j=0;j<=2;j++){if( = 0; i < N; i++) {\n",
            "            temp[i] = a[i];\n",
            "        }\n",
            "        a = temp;\n",
            "    }\n",
            "\n",
            "    public void p     List<TimeRange> timeRanges = generateTimeRanges(\n",
            "                    startDateTimeString, endDa}\n",
            "---------------------------------------\n",
            "\n",
            "if (!Character.isDigit(str.charAt(j))){\n",
            "    stop = j;\n",
            "    i = j;\n",
            "    j = j+ str.length();\n",
            "}\n",
            "---------------------------------------\n",
            "\n",
            "StringrInput\n",
            "Enter an odd number: 2\n",
            "Wrong input!\n",
            "The odd integer is2\n",
            "---------------------------------------\n",
            "\n",
            "private final Map<Class<? extends Annml\");\n",
            "\n",
            "    String text = \"#Some random Cometary\\n\"\n",
            "                + \"RandomText: Goes Here,\\n\"\n",
            "    arr[i]);\n",
            "                }\n",
            "                for(int i = arr.length-1; i >= 0; i--){\n",
            "                 bject object : mylist) {\n",
            "        if(object.getClass().equals(String.class)){\n",
            "            System.out.nt arg0) {}\n",
            "\n",
            "\n",
            "    @Override\n",
            "    public void mouseReleased(MouseEvent arg0) {}\n",
            "\n",
            "}\n",
            "---------------------------------------\n",
            "\n",
            "import java.util.Ab               lock.notifyAll();\n",
            "                    // After notifying, wait until function3 done\n",
            " s Average:76\n",
            "Name:Bufford Average:91\n",
            "Name:Julie Average:94\n",
            "Name:Alice Average:39\n",
            "Name:Bobby Average:    fmap['e'-'a']-=2;\n",
            "            fmap['n'-'a']--;\n",
            "            fmap['v'-'a']--;\n",
            "            sb.appenintln(\"operation not supported\");\n",
            "                        break;\n",
            "                    case 4:\n",
            "       UT. */\n",
            "\n",
            "        int len = A.length();\n",
            "        String B =\"\";\n",
            "        for(int i=len-1;i>=0;i--){\n",
            "     ewSum = tempSum - vect[tempIndex];\n",
            "            newIndex = tempIndex+1;\n",
            "            newAvg = newSum/(at(\"{} expects the {} inquisition\", \"One Person\", \"danish\");\n",
            "assertEquals(expected, actual);\n",
            "---------------------------------------\n",
            "\n",
            "For eac      public static void main(String[] args) {\n",
            "\n",
            "        Competition competition = new Competition();ions;\n",
            "import java.util.List;\n",
            "\n",
            "abstract class Person {\n",
            "    private String name;\n",
            "\n",
            "    public Person(St + \" pounds\");\n",
            "   // call corresponding method to calculate:\n",
            "\n",
            "   convertToInches();\n",
            "   bmiCalculator  e.printStackTrace();\n",
            "        return -1;\n",
            "    }\n",
            "}\n",
            "\n",
            "\n",
            "public int getIntId(JWTClaimsSet claimsSet) {\n",
            "              break;\n",
            "                else if (keepGoing.equalsIgnoreCase(\"N\")) {\n",
            "                    Dntain the number to be divided for, singular and plural names for each type of coin\n",
            "        String[].size(); i++)\n",
            " {\n",
            "     id += \",\" + groupsId.get(i);\n",
            " }\n",
            "---------------------------------------\n",
            "\n",
            "id+= \")\";\n",
            "if(totalPeople < 0){\n",
            "   invalid = fapos) {\n",
            "        add(a, pos, (B[]) new Object[0]);\n",
            "    }\n",
            "}\n",
            "---------------------------------------\n",
            "\n",
            "public static <T>void addA(AClass<T> elem, sList(new Score(100), new Score(200), new Score(50));\n",
            "\n",
            "final Optional<Score> max =\n",
            "        scores.st    double a, b, c, d, e; //5 Grades\n",
            "    double sum = 0;     // total\n",
            "    double avg;        // perct.length; ) {\n",
            "        byte_word = new byte[CHUNK];\n",
            "        for (int j = 0; j < CHUNK; j++) {\n",
            "         System.out.println(\"Enter:\");\n",
            "                list.add(in.next());\n",
            "            }else{break;\n",
            "\n",
            "     \");\n",
            "      input = (char) System.in.read();\n",
            "      System.out.println(\"The character you type was: \" +"
          ],
          "name": "stdout"
        }
      ]
    },
    {
      "cell_type": "code",
      "metadata": {
        "id": "D23CO-IKYMCG"
      },
      "source": [
        "from sklearn.metrics import classification_report\n",
        "\n",
        "print(classification_report(y_test.flatten(), y_pred.flatten() > .5))"
      ],
      "execution_count": null,
      "outputs": []
    }
  ]
}